{
 "cells": [
  {
   "cell_type": "markdown",
   "metadata": {
    "collapsed": true
   },
   "source": [
    "142\n",
    "三角形"
   ]
  },
  {
   "cell_type": "markdown",
   "metadata": {},
   "source": [
    "import turtle\n",
    "turtle = turtle.Turtle()\n",
    "turtle.position()\n",
    "\n",
    "turtle.home()\n",
    "turtle.clear()\n",
    "t=turtle\n",
    "\n",
    "for x in range(12):\n",
    " turtle.forward(100)\n",
    " turtle.left(45)\n",
    "\n",
    "143\n",
    "142と同じ三角形だが、こちらはFOR文を使う。インデントに気をつける。\n",
    "\n",
    "turtle.home()\n",
    "turtle.clear()\n",
    "for i in range(3):\n",
    "turtle.forward(200)\n",
    "turtle.left(120)\n",
    "\n",
    "144\n",
    "turtle.home()\n",
    "turtle.clear()\n",
    "for i in range(5):\n",
    "turtle.forward(200)\n",
    "turtle.left(144)\n",
    "\n",
    "t.forward(100)\n",
    "t.up()\n",
    "t.forward(100)\n",
    "t.down()\n",
    "t.forward(100)\n",
    "\n",
    "145\n",
    "\n",
    "t.home()\n",
    "t.clear()\n",
    "t=turtle\n",
    "\n",
    "for i in range(4):\n",
    " t.up()\n",
    " t.forward(5)\n",
    " t.down()\n",
    " for x in range(4):\n",
    "  t.forward(50)\n",
    "  t.left(90)\n",
    " t.left(-90)\n",
    "\n",
    "for i in range(4):\n",
    " t.forward(50)\n",
    " t.right(90)\n",
    "t.up()\n",
    "t.right(90)\n",
    "t.forward(70)\n",
    "t.down()\n",
    "t.down()\n",
    "\n"
   ]
  },
  {
   "cell_type": "code",
   "execution_count": null,
   "metadata": {
    "collapsed": true
   },
   "outputs": [],
   "source": []
  }
 ],
 "metadata": {
  "kernelspec": {
   "display_name": "Python 3",
   "language": "python",
   "name": "python3"
  },
  "language_info": {
   "codemirror_mode": {
    "name": "ipython",
    "version": 3
   },
   "file_extension": ".py",
   "mimetype": "text/x-python",
   "name": "python",
   "nbconvert_exporter": "python",
   "pygments_lexer": "ipython3",
   "version": "3.6.0"
  }
 },
 "nbformat": 4,
 "nbformat_minor": 2
}
