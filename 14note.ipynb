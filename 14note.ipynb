{
 "cells": [
  {
   "cell_type": "markdown",
   "metadata": {},
   "source": [
    "import turtle\n",
    "t=turtle.Turtle()\n",
    "\n",
    "\n",
    "def rect(x,y,z):\n",
    "  t.up()\n",
    "  t.home()\n",
    "  t.forward(x)\n",
    "  t.left(90)\n",
    "  t.forward(y)\n",
    "  t.dowan()\n",
    "  for i in range(4):\n",
    "    t.forward(a)\n",
    "    t.left(-90)\n",
    "\n",
    "関数とは、複数の処理をひとまとめにしたもの\n",
    "\n",
    "オブジェクトとは、複数の性質と複数の関数をひとまとめにしたもの\n",
    "\n",
    "クラス派生：クラスをもとに、別のクラスを作ること。新しいクラスは、基のクラスの性質を「継承」する\n",
    "\n",
    "import random\n",
    "\n",
    "random.randint(1,6)\n",
    "\n",
    "↓サイコロの設計図（クラス）\n",
    "class Dice:\n",
    "  face_num=6\n",
    "  def shoot(self):\n",
    "    return random.randint(1,self.face_num)\n",
    "\n",
    "\n",
    "aDice=Dice()#クラスをもとにオブジェクトを作る\n",
    "aDice.shoot()#オブジェクトを使う\n",
    "\n",
    "aDice.face_num=10000\n",
    "aDice.shoot()\n",
    "\n",
    "bDice=Dice()\n",
    "bDice.shoot()\n",
    "\n",
    "181\n",
    "CUI\n",
    "\n",
    "GUI\n",
    "\n",
    "標準出力：画面に出力\n",
    "＞を使ってファイルにリダイレクト\n",
    "\n",
    "標準入力：キーボードから入力\n",
    "＜を使ってファイルから入力\n",
    "\n",
    "標準出力を標準入力につなぐ：\n",
    "｜パイプ\n",
    "\n",
    "\n"
   ]
  },
  {
   "cell_type": "code",
   "execution_count": null,
   "metadata": {
    "collapsed": true
   },
   "outputs": [],
   "source": []
  }
 ],
 "metadata": {
  "kernelspec": {
   "display_name": "Python 3",
   "language": "python",
   "name": "python3"
  },
  "language_info": {
   "codemirror_mode": {
    "name": "ipython",
    "version": 3
   },
   "file_extension": ".py",
   "mimetype": "text/x-python",
   "name": "python",
   "nbconvert_exporter": "python",
   "pygments_lexer": "ipython3",
   "version": "3.6.0"
  }
 },
 "nbformat": 4,
 "nbformat_minor": 2
}
